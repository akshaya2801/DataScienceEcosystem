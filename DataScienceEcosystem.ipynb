{
 "cells": [
  {
   "cell_type": "markdown",
   "id": "5d77d174",
   "metadata": {},
   "source": [
    "# Data Science Tools and Ecosystem"
   ]
  },
  {
   "cell_type": "markdown",
   "id": "7d831dd9",
   "metadata": {},
   "source": [
    "In this notebook, Data Science Tools and Ecosystem are summarized."
   ]
  },
  {
   "cell_type": "markdown",
   "id": "497b2b99",
   "metadata": {},
   "source": [
    "**Objectives:**\n",
    "\n",
    "- List popular languages for Data Science\n",
    "- Explain common libraries used in Data Science\n",
    "- Demonstrate arithmetic expression evaluation in Python\n",
    "- Converting minutes to hours\n"
   ]
  },
  {
   "cell_type": "markdown",
   "id": "d78dba67",
   "metadata": {},
   "source": [
    "Some of the popular languages that Data Scientists use are: \n",
    "\n",
    "1) Python: Renowned for its simplicity and versatility, Python stands as a dominant language in data science. Its rich ecosystem of libraries (like NumPy, Pandas, and Matplotlib) makes it ideal for data manipulation, analysis, and visualization.\n",
    "\n",
    "2) R: Specifically designed for statistical analysis and visualization, R is widely used in academia and research. It offers a vast array of packages (such as dplyr, ggplot2, and caret) tailored for data exploration, statistical modeling, and machine learning.\n",
    "\n",
    "3) SQL (Structured Query Language): SQL is fundamental for managing and querying databases. Proficiency in SQL is crucial for extracting, manipulating, and analyzing data stored in relational databases, a key aspect of many data science projects.\n"
   ]
  },
  {
   "cell_type": "markdown",
   "id": "2128c5f9",
   "metadata": {},
   "source": [
    "Some of the commonly used libraries used by Data Scientists include:\n",
    "\n",
    "1) Pandas: Pandas is a powerful Python library extensively used for data manipulation and analysis. It offers versatile data structures like DataFrames, enabling efficient data cleaning, transformation, and analysis.\n",
    "\n",
    "2) NumPy: NumPy, a fundamental library for numerical computing in Python, provides support for arrays and matrices. It offers a wide range of mathematical functions and operations, crucial for data manipulation and computation.\n",
    "\n",
    "3) Scikit-learn: Scikit-learn is a comprehensive machine learning library in Python. It includes various algorithms for classification, regression, clustering, and more, along with utilities for model selection and evaluation.\n",
    "\n",
    "4) Matplotlib: Matplotlib is a widely used plotting library in Python, offering extensive functionalities for creating static, interactive, and publication-quality visualizations, aiding in data exploration and presentation."
   ]
  },
  {
   "cell_type": "markdown",
   "id": "328fb709",
   "metadata": {},
   "source": [
    "| Data Science Tools |\n",
    "|--------------------|\n",
    "| Jupyter Notebook   |\n",
    "| RStudio            |\n",
    "| Watson Studio      |\n"
   ]
  },
  {
   "cell_type": "markdown",
   "id": "b44cefe0",
   "metadata": {},
   "source": [
    "### Below are a few examples of evaluating arithmetic expressions in Python.\n",
    "\n",
    "result = 5 + 3\n",
    "print(result)  # Output: 8\n",
    "\n",
    "result = 10 - 4\n",
    "print(result)  # Output: 6\n",
    "\n",
    "result = 6 * 7\n",
    "print(result)  # Output: 42\n",
    "\n",
    "result = 20 / 5\n",
    "print(result)  # Output: 4.0\n",
    "\n",
    "result = 2 ** 3\n",
    "print(result)  # Output: 8\n",
    "\n",
    "result = 15 % 4\n",
    "print(result)  # Output: 3"
   ]
  },
  {
   "cell_type": "code",
   "execution_count": 2,
   "id": "56158ad3",
   "metadata": {},
   "outputs": [
    {
     "data": {
      "text/plain": [
       "17"
      ]
     },
     "execution_count": 2,
     "metadata": {},
     "output_type": "execute_result"
    }
   ],
   "source": [
    "(3*4)+5\n",
    "#This a simple arithmetic expression to mutiply then add integers."
   ]
  },
  {
   "cell_type": "code",
   "execution_count": 4,
   "id": "0799e502",
   "metadata": {},
   "outputs": [
    {
     "name": "stdout",
     "output_type": "stream",
     "text": [
      "3.3333333333333335\n"
     ]
    }
   ],
   "source": [
    "min=200\n",
    "hr=200/60\n",
    "print(hr)\n",
    "#This will convert 200 minutes to hours by diving by 60"
   ]
  },
  {
   "cell_type": "markdown",
   "id": "e8352364",
   "metadata": {},
   "source": [
    "## AUTHOR\n",
    "Akshaya R"
   ]
  }
 ],
 "metadata": {
  "kernelspec": {
   "display_name": "Python 3 (ipykernel)",
   "language": "python",
   "name": "python3"
  },
  "language_info": {
   "codemirror_mode": {
    "name": "ipython",
    "version": 3
   },
   "file_extension": ".py",
   "mimetype": "text/x-python",
   "name": "python",
   "nbconvert_exporter": "python",
   "pygments_lexer": "ipython3",
   "version": "3.11.5"
  }
 },
 "nbformat": 4,
 "nbformat_minor": 5
}
